{
  "nbformat": 4,
  "nbformat_minor": 0,
  "metadata": {
    "colab": {
      "name": "Untitled1.ipynb",
      "provenance": [],
      "authorship_tag": "ABX9TyPYOyPuTKVHeRInZyDuIGCC",
      "include_colab_link": true
    },
    "kernelspec": {
      "name": "python3",
      "display_name": "Python 3"
    },
    "language_info": {
      "name": "python"
    }
  },
  "cells": [
    {
      "cell_type": "markdown",
      "metadata": {
        "id": "view-in-github",
        "colab_type": "text"
      },
      "source": [
        "<a href=\"https://colab.research.google.com/github/Alfiya-salam/day1-assignment/blob/main/assignment1.ipynb\" target=\"_parent\"><img src=\"https://colab.research.google.com/assets/colab-badge.svg\" alt=\"Open In Colab\"/></a>"
      ]
    },
    {
      "cell_type": "code",
      "execution_count": 4,
      "metadata": {
        "colab": {
          "base_uri": "https://localhost:8080/"
        },
        "id": "5iA75O6Sn1gB",
        "outputId": "dbde8bb2-7986-48d2-fe88-d1ffaceb3f6e"
      },
      "outputs": [
        {
          "output_type": "stream",
          "name": "stdout",
          "text": [
            "Enter numbers: 10 30 40 32\n",
            "Sum:  112\n"
          ]
        }
      ],
      "source": [
        "x = [int(i) for i in input('Enter numbers: ').split()]\n",
        "s = 0\n",
        "for i in x:\n",
        "  s += i\n",
        "print('Sum: ', s)"
      ]
    }
  ]
}